{
 "cells": [
  {
   "cell_type": "markdown",
   "id": "b67debc4",
   "metadata": {
    "papermill": {
     "duration": 0.006922,
     "end_time": "2022-06-28T14:04:31.041628",
     "exception": false,
     "start_time": "2022-06-28T14:04:31.034706",
     "status": "completed"
    },
    "tags": []
   },
   "source": [
    "**This notebook is an exercise in the [Introduction to Machine Learning](https://www.kaggle.com/learn/intro-to-machine-learning) course.  You can reference the tutorial at [this link](https://www.kaggle.com/dansbecker/your-first-machine-learning-model).**\n",
    "\n",
    "---\n"
   ]
  },
  {
   "cell_type": "markdown",
   "id": "082c6ebc",
   "metadata": {
    "papermill": {
     "duration": 0.005624,
     "end_time": "2022-06-28T14:04:31.053325",
     "exception": false,
     "start_time": "2022-06-28T14:04:31.047701",
     "status": "completed"
    },
    "tags": []
   },
   "source": [
    "## Recap\n",
    "So far, you have loaded your data and reviewed it with the following code. Run this cell to set up your coding environment where the previous step left off."
   ]
  },
  {
   "cell_type": "code",
   "execution_count": 1,
   "id": "fd3f9aa2",
   "metadata": {
    "execution": {
     "iopub.execute_input": "2022-06-28T14:04:31.067304Z",
     "iopub.status.busy": "2022-06-28T14:04:31.066810Z",
     "iopub.status.idle": "2022-06-28T14:04:32.441792Z",
     "shell.execute_reply": "2022-06-28T14:04:32.440452Z"
    },
    "papermill": {
     "duration": 1.385825,
     "end_time": "2022-06-28T14:04:32.445346",
     "exception": false,
     "start_time": "2022-06-28T14:04:31.059521",
     "status": "completed"
    },
    "tags": []
   },
   "outputs": [
    {
     "name": "stdout",
     "output_type": "stream",
     "text": [
      "Setup Complete\n"
     ]
    }
   ],
   "source": [
    "# Code you have previously used to load data\n",
    "import pandas as pd\n",
    "\n",
    "# Path of the file to read\n",
    "iowa_file_path = '../input/home-data-for-ml-course/train.csv'\n",
    "\n",
    "home_data = pd.read_csv(iowa_file_path)\n",
    "\n",
    "# Set up code checking\n",
    "from learntools.core import binder\n",
    "binder.bind(globals())\n",
    "from learntools.machine_learning.ex3 import *\n",
    "\n",
    "print(\"Setup Complete\")"
   ]
  },
  {
   "cell_type": "markdown",
   "id": "02c48fe2",
   "metadata": {
    "papermill": {
     "duration": 0.005923,
     "end_time": "2022-06-28T14:04:32.457520",
     "exception": false,
     "start_time": "2022-06-28T14:04:32.451597",
     "status": "completed"
    },
    "tags": []
   },
   "source": [
    "# Exercises\n",
    "\n",
    "## Step 1: Specify Prediction Target\n",
    "Select the target variable, which corresponds to the sales price. Save this to a new variable called `y`. You'll need to print a list of the columns to find the name of the column you need.\n"
   ]
  },
  {
   "cell_type": "code",
   "execution_count": 2,
   "id": "7878775e",
   "metadata": {
    "execution": {
     "iopub.execute_input": "2022-06-28T14:04:32.471059Z",
     "iopub.status.busy": "2022-06-28T14:04:32.470672Z",
     "iopub.status.idle": "2022-06-28T14:04:32.480885Z",
     "shell.execute_reply": "2022-06-28T14:04:32.479681Z"
    },
    "papermill": {
     "duration": 0.020486,
     "end_time": "2022-06-28T14:04:32.483901",
     "exception": false,
     "start_time": "2022-06-28T14:04:32.463415",
     "status": "completed"
    },
    "tags": []
   },
   "outputs": [
    {
     "data": {
      "text/plain": [
       "Index(['Id', 'MSSubClass', 'MSZoning', 'LotFrontage', 'LotArea', 'Street',\n",
       "       'Alley', 'LotShape', 'LandContour', 'Utilities', 'LotConfig',\n",
       "       'LandSlope', 'Neighborhood', 'Condition1', 'Condition2', 'BldgType',\n",
       "       'HouseStyle', 'OverallQual', 'OverallCond', 'YearBuilt', 'YearRemodAdd',\n",
       "       'RoofStyle', 'RoofMatl', 'Exterior1st', 'Exterior2nd', 'MasVnrType',\n",
       "       'MasVnrArea', 'ExterQual', 'ExterCond', 'Foundation', 'BsmtQual',\n",
       "       'BsmtCond', 'BsmtExposure', 'BsmtFinType1', 'BsmtFinSF1',\n",
       "       'BsmtFinType2', 'BsmtFinSF2', 'BsmtUnfSF', 'TotalBsmtSF', 'Heating',\n",
       "       'HeatingQC', 'CentralAir', 'Electrical', '1stFlrSF', '2ndFlrSF',\n",
       "       'LowQualFinSF', 'GrLivArea', 'BsmtFullBath', 'BsmtHalfBath', 'FullBath',\n",
       "       'HalfBath', 'BedroomAbvGr', 'KitchenAbvGr', 'KitchenQual',\n",
       "       'TotRmsAbvGrd', 'Functional', 'Fireplaces', 'FireplaceQu', 'GarageType',\n",
       "       'GarageYrBlt', 'GarageFinish', 'GarageCars', 'GarageArea', 'GarageQual',\n",
       "       'GarageCond', 'PavedDrive', 'WoodDeckSF', 'OpenPorchSF',\n",
       "       'EnclosedPorch', '3SsnPorch', 'ScreenPorch', 'PoolArea', 'PoolQC',\n",
       "       'Fence', 'MiscFeature', 'MiscVal', 'MoSold', 'YrSold', 'SaleType',\n",
       "       'SaleCondition', 'SalePrice'],\n",
       "      dtype='object')"
      ]
     },
     "execution_count": 2,
     "metadata": {},
     "output_type": "execute_result"
    }
   ],
   "source": [
    "# print the list of columns in the dataset to find the name of the prediction target\n",
    "home_data.columns"
   ]
  },
  {
   "cell_type": "code",
   "execution_count": 3,
   "id": "d2891eea",
   "metadata": {
    "execution": {
     "iopub.execute_input": "2022-06-28T14:04:32.498304Z",
     "iopub.status.busy": "2022-06-28T14:04:32.497917Z",
     "iopub.status.idle": "2022-06-28T14:04:32.512619Z",
     "shell.execute_reply": "2022-06-28T14:04:32.511213Z"
    },
    "papermill": {
     "duration": 0.024823,
     "end_time": "2022-06-28T14:04:32.515331",
     "exception": false,
     "start_time": "2022-06-28T14:04:32.490508",
     "status": "completed"
    },
    "tags": []
   },
   "outputs": [
    {
     "data": {
      "application/javascript": [
       "parent.postMessage({\"jupyterEvent\": \"custom.exercise_interaction\", \"data\": {\"outcomeType\": 1, \"valueTowardsCompletion\": 0.25, \"interactionType\": 1, \"questionType\": 2, \"questionId\": \"1_SetTarget\", \"learnToolsVersion\": \"0.3.4\", \"failureMessage\": \"\", \"exceptionClass\": \"\", \"trace\": \"\"}}, \"*\")"
      ],
      "text/plain": [
       "<IPython.core.display.Javascript object>"
      ]
     },
     "metadata": {},
     "output_type": "display_data"
    },
    {
     "data": {
      "text/markdown": [
       "<span style=\"color:#33cc33\">Correct</span>"
      ],
      "text/plain": [
       "Correct"
      ]
     },
     "metadata": {},
     "output_type": "display_data"
    }
   ],
   "source": [
    "y = home_data.SalePrice\n",
    "\n",
    "# Check your answer\n",
    "step_1.check()"
   ]
  },
  {
   "cell_type": "code",
   "execution_count": 4,
   "id": "60073392",
   "metadata": {
    "execution": {
     "iopub.execute_input": "2022-06-28T14:04:32.530772Z",
     "iopub.status.busy": "2022-06-28T14:04:32.530378Z",
     "iopub.status.idle": "2022-06-28T14:04:32.534788Z",
     "shell.execute_reply": "2022-06-28T14:04:32.533505Z"
    },
    "papermill": {
     "duration": 0.015039,
     "end_time": "2022-06-28T14:04:32.537185",
     "exception": false,
     "start_time": "2022-06-28T14:04:32.522146",
     "status": "completed"
    },
    "tags": []
   },
   "outputs": [],
   "source": [
    "# The lines below will show you a hint or the solution.\n",
    "# step_1.hint() \n",
    "# step_1.solution()"
   ]
  },
  {
   "cell_type": "markdown",
   "id": "b056f258",
   "metadata": {
    "papermill": {
     "duration": 0.006124,
     "end_time": "2022-06-28T14:04:32.549739",
     "exception": false,
     "start_time": "2022-06-28T14:04:32.543615",
     "status": "completed"
    },
    "tags": []
   },
   "source": [
    "## Step 2: Create X\n",
    "Now you will create a DataFrame called `X` holding the predictive features.\n",
    "\n",
    "Since you want only some columns from the original data, you'll first create a list with the names of the columns you want in `X`.\n",
    "\n",
    "You'll use just the following columns in the list (you can copy and paste the whole list to save some typing, though you'll still need to add quotes):\n",
    "  * LotArea\n",
    "  * YearBuilt\n",
    "  * 1stFlrSF\n",
    "  * 2ndFlrSF\n",
    "  * FullBath\n",
    "  * BedroomAbvGr\n",
    "  * TotRmsAbvGrd\n",
    "\n",
    "After you've created that list of features, use it to create the DataFrame that you'll use to fit the model."
   ]
  },
  {
   "cell_type": "code",
   "execution_count": 5,
   "id": "eff12514",
   "metadata": {
    "execution": {
     "iopub.execute_input": "2022-06-28T14:04:32.564833Z",
     "iopub.status.busy": "2022-06-28T14:04:32.564447Z",
     "iopub.status.idle": "2022-06-28T14:04:32.578920Z",
     "shell.execute_reply": "2022-06-28T14:04:32.577858Z"
    },
    "papermill": {
     "duration": 0.024791,
     "end_time": "2022-06-28T14:04:32.581193",
     "exception": false,
     "start_time": "2022-06-28T14:04:32.556402",
     "status": "completed"
    },
    "tags": []
   },
   "outputs": [
    {
     "data": {
      "application/javascript": [
       "parent.postMessage({\"jupyterEvent\": \"custom.exercise_interaction\", \"data\": {\"outcomeType\": 1, \"valueTowardsCompletion\": 0.25, \"interactionType\": 1, \"questionType\": 2, \"questionId\": \"2_SelectPredictionData\", \"learnToolsVersion\": \"0.3.4\", \"failureMessage\": \"\", \"exceptionClass\": \"\", \"trace\": \"\"}}, \"*\")"
      ],
      "text/plain": [
       "<IPython.core.display.Javascript object>"
      ]
     },
     "metadata": {},
     "output_type": "display_data"
    },
    {
     "data": {
      "text/markdown": [
       "<span style=\"color:#33cc33\">Correct</span>"
      ],
      "text/plain": [
       "Correct"
      ]
     },
     "metadata": {},
     "output_type": "display_data"
    }
   ],
   "source": [
    "# Create the list of features below\n",
    "feature_names = [\"LotArea\",\"YearBuilt\",\"1stFlrSF\",\"2ndFlrSF\",\"FullBath\",\"BedroomAbvGr\",\"TotRmsAbvGrd\"]\n",
    "\n",
    "# Select data corresponding to features in feature_names\n",
    "X = home_data[feature_names]\n",
    "\n",
    "# Check your answer\n",
    "step_2.check()"
   ]
  },
  {
   "cell_type": "code",
   "execution_count": 6,
   "id": "9a325f2a",
   "metadata": {
    "execution": {
     "iopub.execute_input": "2022-06-28T14:04:32.596625Z",
     "iopub.status.busy": "2022-06-28T14:04:32.596165Z",
     "iopub.status.idle": "2022-06-28T14:04:32.601281Z",
     "shell.execute_reply": "2022-06-28T14:04:32.600108Z"
    },
    "papermill": {
     "duration": 0.015862,
     "end_time": "2022-06-28T14:04:32.603734",
     "exception": false,
     "start_time": "2022-06-28T14:04:32.587872",
     "status": "completed"
    },
    "tags": []
   },
   "outputs": [],
   "source": [
    "# step_2.hint()\n",
    "# step_2.solution()"
   ]
  },
  {
   "cell_type": "markdown",
   "id": "4abb277b",
   "metadata": {
    "papermill": {
     "duration": 0.006335,
     "end_time": "2022-06-28T14:04:32.616854",
     "exception": false,
     "start_time": "2022-06-28T14:04:32.610519",
     "status": "completed"
    },
    "tags": []
   },
   "source": [
    "## Review Data\n",
    "Before building a model, take a quick look at **X** to verify it looks sensible"
   ]
  },
  {
   "cell_type": "code",
   "execution_count": 7,
   "id": "314eb795",
   "metadata": {
    "execution": {
     "iopub.execute_input": "2022-06-28T14:04:32.632598Z",
     "iopub.status.busy": "2022-06-28T14:04:32.631832Z",
     "iopub.status.idle": "2022-06-28T14:04:32.671755Z",
     "shell.execute_reply": "2022-06-28T14:04:32.669414Z"
    },
    "papermill": {
     "duration": 0.05173,
     "end_time": "2022-06-28T14:04:32.675379",
     "exception": false,
     "start_time": "2022-06-28T14:04:32.623649",
     "status": "completed"
    },
    "tags": []
   },
   "outputs": [
    {
     "name": "stdout",
     "output_type": "stream",
     "text": [
      "             LotArea    YearBuilt     1stFlrSF     2ndFlrSF     FullBath  \\\n",
      "count    1460.000000  1460.000000  1460.000000  1460.000000  1460.000000   \n",
      "mean    10516.828082  1971.267808  1162.626712   346.992466     1.565068   \n",
      "std      9981.264932    30.202904   386.587738   436.528436     0.550916   \n",
      "min      1300.000000  1872.000000   334.000000     0.000000     0.000000   \n",
      "25%      7553.500000  1954.000000   882.000000     0.000000     1.000000   \n",
      "50%      9478.500000  1973.000000  1087.000000     0.000000     2.000000   \n",
      "75%     11601.500000  2000.000000  1391.250000   728.000000     2.000000   \n",
      "max    215245.000000  2010.000000  4692.000000  2065.000000     3.000000   \n",
      "\n",
      "       BedroomAbvGr  TotRmsAbvGrd  \n",
      "count   1460.000000   1460.000000  \n",
      "mean       2.866438      6.517808  \n",
      "std        0.815778      1.625393  \n",
      "min        0.000000      2.000000  \n",
      "25%        2.000000      5.000000  \n",
      "50%        3.000000      6.000000  \n",
      "75%        3.000000      7.000000  \n",
      "max        8.000000     14.000000  \n",
      "   LotArea  YearBuilt  1stFlrSF  2ndFlrSF  FullBath  BedroomAbvGr  \\\n",
      "0     8450       2003       856       854         2             3   \n",
      "1     9600       1976      1262         0         2             3   \n",
      "2    11250       2001       920       866         2             3   \n",
      "3     9550       1915       961       756         1             3   \n",
      "4    14260       2000      1145      1053         2             4   \n",
      "\n",
      "   TotRmsAbvGrd  \n",
      "0             8  \n",
      "1             6  \n",
      "2             6  \n",
      "3             7  \n",
      "4             9  \n"
     ]
    }
   ],
   "source": [
    "# Review data\n",
    "# print description or statistics from X\n",
    "print(X.describe())\n",
    "\n",
    "# print the top few lines\n",
    "print(X.head())"
   ]
  },
  {
   "cell_type": "markdown",
   "id": "80526a94",
   "metadata": {
    "papermill": {
     "duration": 0.006688,
     "end_time": "2022-06-28T14:04:32.689004",
     "exception": false,
     "start_time": "2022-06-28T14:04:32.682316",
     "status": "completed"
    },
    "tags": []
   },
   "source": [
    "## Step 3: Specify and Fit Model\n",
    "Create a `DecisionTreeRegressor` and save it iowa_model. Ensure you've done the relevant import from sklearn to run this command.\n",
    "\n",
    "Then fit the model you just created using the data in `X` and `y` that you saved above."
   ]
  },
  {
   "cell_type": "code",
   "execution_count": 8,
   "id": "338cfce5",
   "metadata": {
    "execution": {
     "iopub.execute_input": "2022-06-28T14:04:32.705387Z",
     "iopub.status.busy": "2022-06-28T14:04:32.704574Z",
     "iopub.status.idle": "2022-06-28T14:04:32.726610Z",
     "shell.execute_reply": "2022-06-28T14:04:32.725455Z"
    },
    "papermill": {
     "duration": 0.033092,
     "end_time": "2022-06-28T14:04:32.729061",
     "exception": false,
     "start_time": "2022-06-28T14:04:32.695969",
     "status": "completed"
    },
    "tags": []
   },
   "outputs": [
    {
     "data": {
      "application/javascript": [
       "parent.postMessage({\"jupyterEvent\": \"custom.exercise_interaction\", \"data\": {\"outcomeType\": 1, \"valueTowardsCompletion\": 0.25, \"interactionType\": 1, \"questionType\": 2, \"questionId\": \"3_CreateModel\", \"learnToolsVersion\": \"0.3.4\", \"failureMessage\": \"\", \"exceptionClass\": \"\", \"trace\": \"\"}}, \"*\")"
      ],
      "text/plain": [
       "<IPython.core.display.Javascript object>"
      ]
     },
     "metadata": {},
     "output_type": "display_data"
    },
    {
     "data": {
      "text/markdown": [
       "<span style=\"color:#33cc33\">Correct</span>"
      ],
      "text/plain": [
       "Correct"
      ]
     },
     "metadata": {},
     "output_type": "display_data"
    }
   ],
   "source": [
    "from sklearn.tree import DecisionTreeRegressor\n",
    "#specify the model. \n",
    "#For model reproducibility, set a numeric value for random_state when specifying the model\n",
    "iowa_model = DecisionTreeRegressor(random_state=1)\n",
    "\n",
    "# Fit the model\n",
    "iowa_model.fit(X,y)\n",
    "\n",
    "# Check your answer\n",
    "step_3.check()"
   ]
  },
  {
   "cell_type": "code",
   "execution_count": 9,
   "id": "33052150",
   "metadata": {
    "execution": {
     "iopub.execute_input": "2022-06-28T14:04:32.745342Z",
     "iopub.status.busy": "2022-06-28T14:04:32.744694Z",
     "iopub.status.idle": "2022-06-28T14:04:32.749038Z",
     "shell.execute_reply": "2022-06-28T14:04:32.748228Z"
    },
    "papermill": {
     "duration": 0.015225,
     "end_time": "2022-06-28T14:04:32.751237",
     "exception": false,
     "start_time": "2022-06-28T14:04:32.736012",
     "status": "completed"
    },
    "tags": []
   },
   "outputs": [],
   "source": [
    "# step_3.hint()\n",
    "# step_3.solution()"
   ]
  },
  {
   "cell_type": "markdown",
   "id": "68b9cc7a",
   "metadata": {
    "papermill": {
     "duration": 0.006726,
     "end_time": "2022-06-28T14:04:32.764899",
     "exception": false,
     "start_time": "2022-06-28T14:04:32.758173",
     "status": "completed"
    },
    "tags": []
   },
   "source": [
    "## Step 4: Make Predictions\n",
    "Make predictions with the model's `predict` command using `X` as the data. Save the results to a variable called `predictions`."
   ]
  },
  {
   "cell_type": "code",
   "execution_count": 10,
   "id": "79973792",
   "metadata": {
    "execution": {
     "iopub.execute_input": "2022-06-28T14:04:32.781486Z",
     "iopub.status.busy": "2022-06-28T14:04:32.780814Z",
     "iopub.status.idle": "2022-06-28T14:04:32.796548Z",
     "shell.execute_reply": "2022-06-28T14:04:32.795334Z"
    },
    "papermill": {
     "duration": 0.026291,
     "end_time": "2022-06-28T14:04:32.798761",
     "exception": false,
     "start_time": "2022-06-28T14:04:32.772470",
     "status": "completed"
    },
    "tags": []
   },
   "outputs": [
    {
     "name": "stdout",
     "output_type": "stream",
     "text": [
      "[208500. 181500. 223500. ... 266500. 142125. 147500.]\n"
     ]
    },
    {
     "data": {
      "application/javascript": [
       "parent.postMessage({\"jupyterEvent\": \"custom.exercise_interaction\", \"data\": {\"outcomeType\": 1, \"valueTowardsCompletion\": 0.25, \"interactionType\": 1, \"questionType\": 2, \"questionId\": \"4_MakePredictions\", \"learnToolsVersion\": \"0.3.4\", \"failureMessage\": \"\", \"exceptionClass\": \"\", \"trace\": \"\"}}, \"*\")"
      ],
      "text/plain": [
       "<IPython.core.display.Javascript object>"
      ]
     },
     "metadata": {},
     "output_type": "display_data"
    },
    {
     "data": {
      "text/markdown": [
       "<span style=\"color:#33cc33\">Correct</span>"
      ],
      "text/plain": [
       "Correct"
      ]
     },
     "metadata": {},
     "output_type": "display_data"
    }
   ],
   "source": [
    "predictions = iowa_model.predict(X)\n",
    "print(predictions)\n",
    "\n",
    "# Check your answer\n",
    "step_4.check()"
   ]
  },
  {
   "cell_type": "code",
   "execution_count": 11,
   "id": "b904dadc",
   "metadata": {
    "execution": {
     "iopub.execute_input": "2022-06-28T14:04:32.815454Z",
     "iopub.status.busy": "2022-06-28T14:04:32.815055Z",
     "iopub.status.idle": "2022-06-28T14:04:32.819299Z",
     "shell.execute_reply": "2022-06-28T14:04:32.818116Z"
    },
    "papermill": {
     "duration": 0.015272,
     "end_time": "2022-06-28T14:04:32.821467",
     "exception": false,
     "start_time": "2022-06-28T14:04:32.806195",
     "status": "completed"
    },
    "tags": []
   },
   "outputs": [],
   "source": [
    "# step_4.hint()\n",
    "#step_4.solution()"
   ]
  },
  {
   "cell_type": "markdown",
   "id": "39911040",
   "metadata": {
    "papermill": {
     "duration": 0.007038,
     "end_time": "2022-06-28T14:04:32.835749",
     "exception": false,
     "start_time": "2022-06-28T14:04:32.828711",
     "status": "completed"
    },
    "tags": []
   },
   "source": [
    "## Think About Your Results\n",
    "\n",
    "Use the `head` method to compare the top few predictions to the actual home values (in `y`) for those same homes. Anything surprising?\n"
   ]
  },
  {
   "cell_type": "code",
   "execution_count": 12,
   "id": "3e37ddd8",
   "metadata": {
    "execution": {
     "iopub.execute_input": "2022-06-28T14:04:32.852389Z",
     "iopub.status.busy": "2022-06-28T14:04:32.851691Z",
     "iopub.status.idle": "2022-06-28T14:04:32.856574Z",
     "shell.execute_reply": "2022-06-28T14:04:32.855709Z"
    },
    "papermill": {
     "duration": 0.015797,
     "end_time": "2022-06-28T14:04:32.858772",
     "exception": false,
     "start_time": "2022-06-28T14:04:32.842975",
     "status": "completed"
    },
    "tags": []
   },
   "outputs": [],
   "source": [
    "# You can write code in this cell"
   ]
  },
  {
   "cell_type": "markdown",
   "id": "e9958c50",
   "metadata": {
    "papermill": {
     "duration": 0.00707,
     "end_time": "2022-06-28T14:04:32.873174",
     "exception": false,
     "start_time": "2022-06-28T14:04:32.866104",
     "status": "completed"
    },
    "tags": []
   },
   "source": [
    "It's natural to ask how accurate the model's predictions will be and how you can improve that. That will be you're next step.\n",
    "\n",
    "# Keep Going\n",
    "\n",
    "You are ready for **[Model Validation](https://www.kaggle.com/dansbecker/model-validation).**\n"
   ]
  },
  {
   "cell_type": "markdown",
   "id": "3a8c64e4",
   "metadata": {
    "papermill": {
     "duration": 0.006881,
     "end_time": "2022-06-28T14:04:32.887401",
     "exception": false,
     "start_time": "2022-06-28T14:04:32.880520",
     "status": "completed"
    },
    "tags": []
   },
   "source": [
    "---\n",
    "\n",
    "\n",
    "\n",
    "\n",
    "*Have questions or comments? Visit the [course discussion forum](https://www.kaggle.com/learn/intro-to-machine-learning/discussion) to chat with other learners.*"
   ]
  }
 ],
 "metadata": {
  "kernelspec": {
   "display_name": "Python 3",
   "language": "python",
   "name": "python3"
  },
  "language_info": {
   "codemirror_mode": {
    "name": "ipython",
    "version": 3
   },
   "file_extension": ".py",
   "mimetype": "text/x-python",
   "name": "python",
   "nbconvert_exporter": "python",
   "pygments_lexer": "ipython3",
   "version": "3.7.12"
  },
  "papermill": {
   "default_parameters": {},
   "duration": 13.265902,
   "end_time": "2022-06-28T14:04:33.716556",
   "environment_variables": {},
   "exception": null,
   "input_path": "__notebook__.ipynb",
   "output_path": "__notebook__.ipynb",
   "parameters": {},
   "start_time": "2022-06-28T14:04:20.450654",
   "version": "2.3.4"
  }
 },
 "nbformat": 4,
 "nbformat_minor": 5
}
